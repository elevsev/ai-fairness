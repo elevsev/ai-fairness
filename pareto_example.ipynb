{
 "cells": [
  {
   "cell_type": "code",
   "execution_count": 1,
   "metadata": {},
   "outputs": [],
   "source": [
    "import pandas as pd\n",
    "import numpy as np\n",
    "from pareto import ParetoOptimizer"
   ]
  },
  {
   "cell_type": "code",
   "execution_count": 3,
   "metadata": {},
   "outputs": [],
   "source": [
    "# if __name__ == \"__main__\":\n",
    "\n",
    "#     costs = pd.DataFrame([[0.84, 0.72], [0.82, 0.71], [0.83, 0.74], [0.80,0.80]],  \n",
    "#                          columns=[\"cost_1\", \"value_1\"])\n",
    "#     display(costs)\n",
    "\n",
    "#     optimizer = ParetoOptimizer()\n",
    "#     optimizer.set_inputs(costs, [\"min\", \"max\"])\n",
    "\n",
    "#     pareto_set = optimizer.optimize()  \n",
    "#     print(pareto_set)"
   ]
  },
  {
   "cell_type": "code",
   "execution_count": 4,
   "metadata": {},
   "outputs": [
    {
     "ename": "TypeError",
     "evalue": "'NoneType' object is not subscriptable",
     "output_type": "error",
     "traceback": [
      "\u001b[0;31m---------------------------------------------------------------------------\u001b[0m",
      "\u001b[0;31mTypeError\u001b[0m                                 Traceback (most recent call last)",
      "Cell \u001b[0;32mIn[4], line 8\u001b[0m\n\u001b[1;32m      6\u001b[0m optimizer \u001b[39m=\u001b[39m ParetoOptimizer()\n\u001b[1;32m      7\u001b[0m optimizer\u001b[39m.\u001b[39mset_inputs(costs, optimize_for\u001b[39m=\u001b[39m\u001b[39m\"\u001b[39m\u001b[39mmin\u001b[39m\u001b[39m\"\u001b[39m)\n\u001b[0;32m----> 8\u001b[0m optimizer\u001b[39m.\u001b[39;49mtoggle_objective(\u001b[39m\"\u001b[39;49m\u001b[39mrevenue\u001b[39;49m\u001b[39m\"\u001b[39;49m) \u001b[39m# Maximize revenue\u001b[39;00m\n\u001b[1;32m     10\u001b[0m pareto_min \u001b[39m=\u001b[39m optimizer\u001b[39m.\u001b[39moptimize()\n\u001b[1;32m     11\u001b[0m \u001b[39mprint\u001b[39m(pareto_min)\n",
      "File \u001b[0;32m~/fairness/pareto.py:63\u001b[0m, in \u001b[0;36mParetoOptimizer.toggle_objective\u001b[0;34m(self, column)\u001b[0m\n\u001b[1;32m     61\u001b[0m \u001b[39m\u001b[39m\u001b[39m\"\"\"Flip column's optimization sense\"\"\"\u001b[39;00m\n\u001b[1;32m     62\u001b[0m col_idx \u001b[39m=\u001b[39m \u001b[39mself\u001b[39m\u001b[39m.\u001b[39mcosts\u001b[39m.\u001b[39mcolumns\u001b[39m.\u001b[39mget_loc(column)\n\u001b[0;32m---> 63\u001b[0m \u001b[39mself\u001b[39m\u001b[39m.\u001b[39msense[col_idx] \u001b[39m=\u001b[39m \u001b[39m\"\u001b[39m\u001b[39mmin\u001b[39m\u001b[39m\"\u001b[39m \u001b[39mif\u001b[39;00m \u001b[39mself\u001b[39;49m\u001b[39m.\u001b[39;49msense[col_idx]\u001b[39m==\u001b[39m\u001b[39m\"\u001b[39m\u001b[39mmax\u001b[39m\u001b[39m\"\u001b[39m \u001b[39melse\u001b[39;00m \u001b[39m\"\u001b[39m\u001b[39mmax\u001b[39m\u001b[39m\"\u001b[39m\n",
      "\u001b[0;31mTypeError\u001b[0m: 'NoneType' object is not subscriptable"
     ]
    }
   ],
   "source": [
    "import pandas as pd \n",
    "\n",
    "costs = pd.DataFrame([[4, 2], [2, 1], [3, 4]], columns=[\"cost\", \"revenue\"])\n",
    "\n",
    "# Minimization case\n",
    "optimizer = ParetoOptimizer()\n",
    "optimizer.set_inputs(costs, optimize_for=\"min\")\n",
    "optimizer.toggle_objective(\"revenue\") # Maximize revenue\n",
    "\n",
    "pareto_min = optimizer.optimize()\n",
    "print(pareto_min)\n",
    "\n",
    "# Maximization case\n",
    "optimizer.set_inputs(costs, optimize_for=\"max\") \n",
    "\n",
    "pareto_max = optimizer.optimize()\n",
    "print(pareto_max)"
   ]
  },
  {
   "cell_type": "code",
   "execution_count": 5,
   "metadata": {},
   "outputs": [],
   "source": [
    "import numpy as np\n",
    "\n",
    "def is_dominated(obj1, obj2):\n",
    "    \"\"\"Check if obj1 dominates obj2\"\"\"\n",
    "    dominates = False\n",
    "    for a, b in zip(obj1, obj2):\n",
    "        if a > b:\n",
    "            dominates = True\n",
    "            break\n",
    "    return dominates\n",
    "    \n",
    "\n",
    "def get_pareto_front(objectives, mode='minimize'):\n",
    "    \"\"\"Compute Pareto front from objectives\"\"\"\n",
    "    pareto_points = []\n",
    "    \n",
    "    if mode == 'minimize':\n",
    "        for obj1 in objectives:\n",
    "            is_optimal = True\n",
    "            for obj2 in objectives:\n",
    "                if is_dominated(obj2, obj1):\n",
    "                    is_optimal = False\n",
    "                    break\n",
    "            if is_optimal:\n",
    "                pareto_points.append(obj1)\n",
    "                \n",
    "    elif mode == 'maximize':\n",
    "        inverted = -objectives\n",
    "        pareto_points = get_pareto_front(inverted, mode='minimize')\n",
    "        pareto_points = -np.array(pareto_points)\n",
    "        \n",
    "    return pareto_points\n",
    "    \n",
    "    \n",
    "def multiobjective_optimize(data, mode='minimize'):\n",
    "    \"\"\"Find Pareto optimal set from multiobjective data\"\"\" \n",
    "\n",
    "    objectives = data[:,:-1]\n",
    "    \n",
    "    pareto_front = get_pareto_front(objectives, mode)\n",
    "        \n",
    "    return pareto_front"
   ]
  },
  {
   "cell_type": "code",
   "execution_count": 6,
   "metadata": {},
   "outputs": [
    {
     "data": {
      "text/plain": [
       "array([[1, 2],\n",
       "       [2, 1],\n",
       "       [3, 4],\n",
       "       [4, 3],\n",
       "       [5, 5]])"
      ]
     },
     "execution_count": 6,
     "metadata": {},
     "output_type": "execute_result"
    }
   ],
   "source": [
    "# Sample data with 2 objectives \n",
    "data = np.array([[1, 2], \n",
    "                 [2, 1],\n",
    "                 [3, 4],\n",
    "                 [4, 3],\n",
    "                 [5, 5]])\n",
    "data"
   ]
  },
  {
   "cell_type": "code",
   "execution_count": 7,
   "metadata": {},
   "outputs": [
    {
     "name": "stdout",
     "output_type": "stream",
     "text": [
      "[array([5])]\n",
      "[[1]]\n"
     ]
    }
   ],
   "source": [
    "# Get Pareto front minimizing objectives                \n",
    "pareto_set = multiobjective_optimize(data, mode='minimize')\n",
    "\n",
    "print(pareto_set)\n",
    "# [[1 2]\n",
    "#  [2 1]]\n",
    "\n",
    "# Get Pareto front maximizing objectives\n",
    "pareto_set = multiobjective_optimize(data, mode='maximize') \n",
    "\n",
    "print(pareto_set)\n",
    "# [[5 5]\n",
    "#  [3 4]]"
   ]
  },
  {
   "cell_type": "code",
   "execution_count": 8,
   "metadata": {},
   "outputs": [
    {
     "data": {
      "text/plain": [
       "array([[1]])"
      ]
     },
     "execution_count": 8,
     "metadata": {},
     "output_type": "execute_result"
    }
   ],
   "source": [
    "pareto_set"
   ]
  },
  {
   "cell_type": "code",
   "execution_count": 9,
   "metadata": {},
   "outputs": [],
   "source": [
    "import numpy as np\n",
    "import pandas as pd\n",
    "\n",
    "class ParetoOptimizationLibrary:\n",
    "    def __init__(self, data):\n",
    "        self.data = data\n",
    "        self.num_objectives = None\n",
    "        self.objectives = None\n",
    "        self.pareto_front = []\n",
    "\n",
    "    def set_objectives(self, objectives):\n",
    "        \"\"\"\n",
    "        Set the objectives for optimization.\n",
    "        Args:\n",
    "            objectives (list of functions): List of objective functions.\n",
    "        \"\"\"\n",
    "        self.objectives = objectives\n",
    "        self.num_objectives = len(objectives)\n",
    "\n",
    "    def optimize(self, objective_type='minimization'):\n",
    "        \"\"\"\n",
    "        Perform Pareto optimization.\n",
    "        Args:\n",
    "            objective_type (str): 'minimization' or 'maximization'.\n",
    "        Returns:\n",
    "            List of Pareto-optimal solutions.\n",
    "        \"\"\"\n",
    "        if self.num_objectives is None or self.objectives is None:\n",
    "            raise ValueError(\"Objectives not set. Use set_objectives() to define objectives.\")\n",
    "\n",
    "        if objective_type not in ['minimization', 'maximization']:\n",
    "            raise ValueError(\"Invalid objective_type. Use 'minimization' or 'maximization'.\")\n",
    "\n",
    "        # Implement optimization algorithm based on objective_type\n",
    "        if objective_type == 'minimization':\n",
    "            pareto_solutions = self._minimization_optimization()\n",
    "        else:\n",
    "            pareto_solutions = self._maximization_optimization()\n",
    "\n",
    "        self.pareto_front = pareto_solutions\n",
    "        return pareto_solutions\n",
    "\n",
    "    def _minimization_optimization(self):\n",
    "        # Implement minimization optimization algorithm (e.g., NSGA-II)\n",
    "        # Populate pareto_solutions with non-dominated solutions\n",
    "        pareto_solutions = []\n",
    "\n",
    "        return pareto_solutions\n",
    "\n",
    "    def _maximization_optimization(self):\n",
    "        # Implement maximization optimization algorithm (e.g., SPEA2)\n",
    "        # Populate pareto_solutions with non-dominated solutions\n",
    "        pareto_solutions = []\n",
    "\n",
    "        return pareto_solutions\n",
    "\n"
   ]
  },
  {
   "cell_type": "code",
   "execution_count": 10,
   "metadata": {},
   "outputs": [
    {
     "name": "stdout",
     "output_type": "stream",
     "text": [
      "Pareto Front:\n"
     ]
    }
   ],
   "source": [
    "\n",
    "# Example usage:\n",
    "if __name__ == \"__main__\":\n",
    "    # Sample data (replace with your own)\n",
    "    data = np.random.rand(100, 2)\n",
    "    df = pd.DataFrame(data, columns=['Objective1', 'Objective2'])\n",
    "\n",
    "    # Create the library instance\n",
    "    pareto_optimizer = ParetoOptimizationLibrary(df)\n",
    "\n",
    "    # Define objective functions (customize these)\n",
    "    def objective1(data):\n",
    "        return data['Objective1']\n",
    "\n",
    "    def objective2(data):\n",
    "        return data['Objective2']\n",
    "\n",
    "    pareto_optimizer.set_objectives([objective1, objective2])\n",
    "\n",
    "    # Perform minimization Pareto optimization\n",
    "    pareto_front = pareto_optimizer.optimize(objective_type='minimization')\n",
    "\n",
    "    # Print the Pareto front\n",
    "    print(\"Pareto Front:\")\n",
    "    for solution in pareto_front:\n",
    "        print(solution)"
   ]
  },
  {
   "cell_type": "code",
   "execution_count": 12,
   "metadata": {},
   "outputs": [
    {
     "data": {
      "text/plain": [
       "[]"
      ]
     },
     "execution_count": 12,
     "metadata": {},
     "output_type": "execute_result"
    }
   ],
   "source": [
    "pareto_front"
   ]
  },
  {
   "cell_type": "code",
   "execution_count": null,
   "metadata": {},
   "outputs": [],
   "source": []
  }
 ],
 "metadata": {
  "kernelspec": {
   "display_name": "venv_fairness_310",
   "language": "python",
   "name": "python3"
  },
  "language_info": {
   "codemirror_mode": {
    "name": "ipython",
    "version": 3
   },
   "file_extension": ".py",
   "mimetype": "text/x-python",
   "name": "python",
   "nbconvert_exporter": "python",
   "pygments_lexer": "ipython3",
   "version": "3.9.7"
  },
  "orig_nbformat": 4
 },
 "nbformat": 4,
 "nbformat_minor": 2
}
